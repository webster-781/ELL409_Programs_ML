{
 "cells": [
  {
   "cell_type": "code",
   "execution_count": 45,
   "source": [
    "def get(phix,m):     # Returns phi only upto the no. of features 0 to m-1\n",
    "    newphi = np.copy(phix.T)\n",
    "    newphi = newphi[0:m]\n",
    "    return newphi.T\n",
    "\n",
    "def plot_all(x,hs,xl = 'X',yl = 'Y',legends = [''],xlog = False,scatterFirst = False, ylog = False):      # Plots all curves with x on X and all elements oh hs on Y, ll = xlabel, yl = ylabel, xlog = if x is on logarithmic scale, legends = legends\n",
    "    plt.figure()\n",
    "    plt.xlabel(xl)\n",
    "    plt.ylabel(yl)\n",
    "    if(xlog):\n",
    "        plt.xscale('log')\n",
    "    if(ylog):\n",
    "        plt.yscale('log')\n",
    "    if(scatterFirst):\n",
    "        plt.scatter(x,hs[0],color = 'indigo')\n",
    "    for h in hs[scatterFirst:]:\n",
    "        plt.plot(x,h)\n",
    "    plt.legend(legends)\n",
    "    plt.show()\n",
    "\n",
    "def make_batches(phix,tx,bs):                 # Returns the batches of phi,t with batch_size = bs\n",
    "    N = phix.shape[0]\n",
    "    newphi = np.copy(phix)\n",
    "    newphi = np.concatenate((newphi,np.array([tx]).T),axis = 1)\n",
    "    np.random.shuffle(newphi)\n",
    "    sz = math.floor(N/bs)\n",
    "    # print(sz,bs)\n",
    "    newphi = newphi[0:sz*bs]\n",
    "    N = phix.shape[0]\n",
    "    newphi = np.array(np.split(newphi,sz))\n",
    "    phis = []\n",
    "    ts = []\n",
    "    for ph in newphi:\n",
    "        ts.append(ph.T[-1])\n",
    "        phis.append((ph.T[0:-1]).T)\n",
    "    return phis,ts\n",
    "\n",
    "def MPPI(phi, t, m, lamda):\n",
    "    phix = get(phi,m)\n",
    "    wm = (( np.linalg.inv(lamda*np.eye(m) + (phix.T).dot(phix)).dot(phix.T)).dot(t))\n",
    "    h = phix.dot(wm)\n",
    "    return wm,h\n",
    "\n",
    "def SSE(hi,ti):   # Returns Sum of Squares error between the hypothesis h and the target t\n",
    "    N = hi.shape[0]\n",
    "    cost = (1/N)*0.5*sum(np.square(hi-ti))\n",
    "    return cost\n",
    "\n",
    "def SSG(phii,ti,h,lamda,w):\n",
    "    N = ti.shape[0]\n",
    "    gd = np.dot(phii.T,h-ti)/N + lamda*w\n",
    "    return gd\n",
    "\n",
    "def batch_gd(phi, alpha, tx, iters, batch_size, m,lamda =0, errorf = SSE, gradient= SSG):\n",
    "    phix = get(phi,m)\n",
    "    w = np.ones(m,dtype = 'float')\n",
    "    M = phix.shape[1]       # Number of features\n",
    "    N = batch_size          # Number of data points\n",
    "    for i in range(iters):\n",
    "        phis,ts = make_batches(phix,tx,batch_size)\n",
    "        with warnings.catch_warnings():\n",
    "            warnings.filterwarnings('error')\n",
    "            try:\n",
    "                for i in range(len(phis)):\n",
    "                    phii = phis[i]\n",
    "                    ti = ts[i]\n",
    "                    h = phii.dot(w)\n",
    "\n",
    "                    gd = gradient(phii,ti,h,lamda,w)\n",
    "\n",
    "                    w = w - (alpha * gd)\n",
    "\n",
    "                    h = phii.dot(w)\n",
    "            except RuntimeWarning as e:\n",
    "                return e\n",
    "    h = phix.dot(w)\n",
    "    with warnings.catch_warnings():\n",
    "        warnings.filterwarnings('error')\n",
    "        try:\n",
    "            cost = errorf(h,tx)\n",
    "        except RuntimeWarning as e:\n",
    "            return e\n",
    "    return w,cost,h\n",
    "\n",
    "def check(phi,t,m):\n",
    "    N = phi.shape[0]\n",
    "    batch_sizes =[]\n",
    "    alphas = []\n",
    "    for bs in [1,2,5,10,20,50,100]:\n",
    "        batch_sizes.append(bs)\n",
    "        alpha,cost = find_alpha(phi,t,bs,1e-5,1,m)\n",
    "        alphas.append(alpha,cost)\n",
    "        print(bs,alphas[-1])\n",
    "    plt.plot(batch_sizes,alphas)\n",
    "\n",
    "def find_alpha(phi,t,batch_size,l,r,lamda,m,errorf):\n",
    "    mid = 0\n",
    "    cost = 0\n",
    "    for _ in range(5):\n",
    "        mid = (l+r)/2\n",
    "        output = batch_gd(phi,mid,t,10000,batch_size,lamda = lamda,m = m)\n",
    "        if(isinstance(output,RuntimeWarning)):\n",
    "            r = mid\n",
    "        elif(output[1] > 1e6):\n",
    "            r = mid\n",
    "        else:\n",
    "            cost = output[1]\n",
    "            l =mid\n",
    "    return l,cost\n",
    "\n",
    "def Cross_Validation(phi,tx,alpha,parts,lamda,m,batch_size = 1,iters=5000,errorf=SSE,gradient=SSG,pinv = True):   # Finds cross validation Error for the given arguments\n",
    "    # print(m,lamda)\n",
    "    phix = get(phi,m)\n",
    "    N = phix.shape[0]\n",
    "    bs = math.floor(N/parts)\n",
    "    alls = np.array_split(range(N),parts)\n",
    "    test_error = 0.0\n",
    "    training_error = 0.0\n",
    "    for i in range(parts):\n",
    "        phii = np.delete(phix,alls[i],axis = 0)\n",
    "        ti = np.delete(tx,alls[i])\n",
    "        if(pinv):\n",
    "            wi,hi = MPPI(phii,ti,m,lamda)   \n",
    "            costi = SSE(hi,ti)      # Represents the training error\n",
    "        else:\n",
    "            wi,costi,hi = batch_gd(phi = phii, alpha = alpha,tx = ti,batch_size= batch_size,lamda = lamda, iters = iters,m = m)\n",
    "        # Wi and Hi are weights and hypothesis values at all inputs in this training set\n",
    "        hypothesis_i = phix[alls[i]].dot(wi)    # Represents the hypothesis values at the test set\n",
    "        training_error += costi # Increment total training error\n",
    "        test_error += SSE(hypothesis_i,tx[alls[i]]) # Increment total testing error\n",
    "    test_error /= parts\n",
    "    training_error /= parts\n",
    "    test_error = math.sqrt(test_error)\n",
    "    training_error = math.sqrt(training_error)\n",
    "    print(test_error,training_error)\n",
    "    return test_error,training_error"
   ],
   "outputs": [],
   "metadata": {}
  },
  {
   "cell_type": "code",
   "execution_count": 77,
   "source": [
    "import csv\n",
    "import math\n",
    "import numpy as np\n",
    "import matplotlib.pyplot as plt\n",
    "import warnings\n",
    "M = 100 # Order of poly is M-1\n",
    "from random import randint as rand\n",
    "with open(\"gaussian.csv\", 'r') as f:\n",
    "    data = list(csv.reader(f,delimiter = ','))\n",
    "# data= data[0:20]\n",
    "data = np.array(data)\n",
    "data = np.array([[float(d[0]),float(d[1])] for d in data])\n",
    "data = data[np.argsort(data[:,0])]\n",
    "x = np.array([d[0] for d in data], dtype = 'float')\n",
    "t = np.array([d[1] for d in data], dtype= 'float')\n",
    "phi = np.array([[pow(xv,i) for i in range(M)] for xv in x])\n",
    "N = t.size\n",
    "\n",
    "\n"
   ],
   "outputs": [],
   "metadata": {}
  },
  {
   "cell_type": "code",
   "execution_count": 53,
   "source": [],
   "outputs": [],
   "metadata": {}
  },
  {
   "cell_type": "code",
   "execution_count": 88,
   "source": [
    "errors = [Cross_Validation(phi,t, alpha = 1e-4, batch_size = 1, parts = 10, lamda = 0, m = i, pinv = False) for i in range(2,25)]"
   ],
   "outputs": [
    {
     "output_type": "stream",
     "name": "stdout",
     "text": [
      "0.00011536467128984184 7.860164292204728e-05\n",
      "0.0011217757939991388 0.00017584155161623081\n",
      "0.0016676018714772485 0.000526492363984865\n",
      "0.0019615158605358627 0.000609606015088311\n",
      "0.002118637777404235 0.00047063053418884603\n",
      "0.002178408299304699 0.0003170190431614475\n",
      "0.0020710951101167727 0.00021864972918792677\n",
      "0.001756172987679372 0.00017377684976584056\n",
      "0.0013409140594449354 0.00018228932447758703\n",
      "0.0009978078356117008 0.00023032583105424463\n",
      "0.0009365411422749787 0.0002882613999753426\n",
      "0.0013582993413671287 0.00032671294698791647\n",
      "0.0024245407852351137 0.0003299180714012957\n",
      "0.004235845321972727 0.0003016794663844897\n",
      "0.006735614873189542 0.00025822816880997554\n",
      "0.009623331887717421 0.00021816626049767006\n",
      "0.012344912147092383 0.00019152920339527866\n",
      "0.014051807752873138 0.00018027537117403425\n",
      "0.013868975708483892 0.00018425223952352098\n",
      "0.011182974761066907 0.00019963940288471056\n",
      "0.006251284401497583 0.00022391373946373613\n",
      "0.0017130066508954083 0.0002475208625154702\n",
      "0.004497567133496374 0.00027142948926451037\n"
     ]
    }
   ],
   "metadata": {}
  },
  {
   "cell_type": "code",
   "execution_count": 89,
   "source": [
    "test,train = np.array(errors).T\n",
    "test = np.sqrt(test)\n",
    "train = np.sqrt(train)\n",
    "test = test[3:16]\n",
    "train = train[3:16]\n",
    "plot_all(x = range(4,len(test)+4), hs = [test,train],  legends = ['Testing','Training'], xl ='Degree of Polynomial', yl ='Error',)"
   ],
   "outputs": [
    {
     "output_type": "display_data",
     "data": {
      "image/png": "[encoded data removed]",
      "text/plain": [
       "<Figure size 432x288 with 1 Axes>"
      ]
     },
     "metadata": {
      "needs_background": "light"
     }
    }
   ],
   "metadata": {}
  },
  {
   "cell_type": "code",
   "execution_count": null,
   "source": [
    "errors = [Cross_Validation(phi,t,alpha = 1e-4, batch_size = 1,parts = 4, lamda = 0, m = i) for i in range(1,10)]"
   ],
   "outputs": [],
   "metadata": {}
  },
  {
   "cell_type": "code",
   "execution_count": 41,
   "source": [
    "arr = [pow(10,i) for i in range(-15,-3,2)]\n",
    "errors = [Cross_Validation(phi,t,alpha = 0.5, batch_size = 5,parts = 4, lamda = i, m = 6, pinv =False) for i in arr]"
   ],
   "outputs": [
    {
     "output_type": "stream",
     "name": "stdout",
     "text": [
      "0.009517791571575299 1.6556124916071426e-05\n",
      "0.009439345292075381 4.368340094350756e-05\n",
      "0.009462513776902583 1.5635128621056604e-05\n",
      "0.009405787712026234 1.6838515028989438e-05\n",
      "0.009602462621265854 0.00015927208332300221\n",
      "0.0076040005286233375 2.5980992975006763e-05\n"
     ]
    }
   ],
   "metadata": {}
  },
  {
   "cell_type": "code",
   "execution_count": 73,
   "source": [
    "phi.shape"
   ],
   "outputs": [
    {
     "output_type": "execute_result",
     "data": {
      "text/plain": [
       "(20, 100)"
      ]
     },
     "metadata": {},
     "execution_count": 73
    }
   ],
   "metadata": {}
  }
 ],
 "metadata": {
  "orig_nbformat": 4,
  "language_info": {
   "name": "python",
   "version": "3.9.7",
   "mimetype": "text/x-python",
   "codemirror_mode": {
    "name": "ipython",
    "version": 3
   },
   "pygments_lexer": "ipython3",
   "nbconvert_exporter": "python",
   "file_extension": ".py"
  },
  "kernelspec": {
   "name": "python3",
   "display_name": "Python 3.9.7 64-bit"
  },
  "interpreter": {
   "hash": "aee8b7b246df8f9039afb4144a1f6fd8d2ca17a180786b69acc140d282b71a49"
  }
 },
 "nbformat": 4,
 "nbformat_minor": 2
}