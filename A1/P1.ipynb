{
 "cells": [
  {
   "cell_type": "code",
   "execution_count": 117,
   "source": [
    "import csv\n",
    "import math\n",
    "import numpy as np\n",
    "import matplotlib.pyplot as plt\n",
    "import warnings\n",
    "M = 6 # Order of poly is M-1\n",
    "from random import randint as rand\n",
    "with open(\"gaussian.csv\", 'r') as f:\n",
    "    data = list(csv.reader(f,delimiter = ','))\n",
    "data = np.array(data)\n",
    "data = np.array([[float(d[0]),float(d[1])] for d in data])\n",
    "x = np.array([d[0] for d in data], dtype = 'float')\n",
    "t = np.array([d[1] for d in data], dtype= 'float')\n",
    "phi = np.array([[pow(xv,i) for i in range(M)] for xv in x])\n",
    "N = t.size"
   ],
   "outputs": [],
   "metadata": {}
  },
  {
   "cell_type": "code",
   "execution_count": 231,
   "source": [
    "def batch_gd(phix, alpha, tx, w, iters, batch_size):\n",
    "    M = phix.shape[1]       # Number of features\n",
    "    N = batch_size          # Number of data points\n",
    "    for i in range(iters):\n",
    "        phis,ts = make_batches(phix,tx,batch_size)\n",
    "        with warnings.catch_warnings():\n",
    "            warnings.filterwarnings('error')\n",
    "            try:\n",
    "                for i in range(len(phis)):\n",
    "                    phii = phis[i]\n",
    "                    ti = ts[i]\n",
    "                    h = phii.dot(w)\n",
    "                    # We find the normalised gradient\n",
    "                    gd= np.zeros(M,dtype= 'float')\n",
    "                    for j in range(M):\n",
    "                        gd[j] = sum((h-ti) * phii.T[j])/N\n",
    "                        \n",
    "                    # norm = sum(np.square(gd))\n",
    "                    # gd = gd/norm\n",
    "                    # print(sum(np.square(gd)))\n",
    "\n",
    "                    w = w - (alpha * gd)\n",
    "\n",
    "                    h = phii.dot(w)\n",
    "            except RuntimeWarning as e:\n",
    "                return e\n",
    "        with warnings.catch_warnings():\n",
    "            warnings.filterwarnings('error')\n",
    "            try:\n",
    "                cost = (1/phix.shape[0])*0.5*sum(np.square(phix.dot(w)-tx))\n",
    "            except RuntimeWarning as e:\n",
    "                return e\n",
    "    return w,cost"
   ],
   "outputs": [],
   "metadata": {}
  },
  {
   "cell_type": "code",
   "execution_count": 228,
   "source": [
    "out1 = batch_gd(phi,0.2884375,t,np.ones(phi.shape[1],dtype = 'float'),100000,100)\n",
    "out2 = batch_gd(phi,0.2884375,t,np.ones(phi.shape[1],dtype = 'float'),100000,20)\n",
    "out3 = batch_gd(phi,0.2884375,t,np.ones(phi.shape[1],dtype = 'float'),100000,1)\n",
    "\n",
    "if(isinstance(out1,RuntimeWarning)):\n",
    "    print(\"Overflow!! Decrease the learning rate!\")\n",
    "else:\n",
    "    w1,cost1 = out1\n",
    "    w2,cost2 = out2\n",
    "    w3,cost3 = out3\n",
    "    plt.scatter(x,t,c='blue')\n",
    "    plt.scatter(x,phi.dot(w1),c='green')\n",
    "    plt.scatter(x,phi.dot(w2),c='orange')\n",
    "    plt.scatter(x,phi.dot(w3),c='red')\n",
    "    plt.legend(['Data','Using batch size 100','using batch size 20','using batch size 1'],loc='lower left')\n",
    "    print(w1,cost1)\n",
    "    print(w2,cost2)\n",
    "    print(w3,cost3)"
   ],
   "outputs": [
    {
     "output_type": "stream",
     "name": "stdout",
     "text": [
      "[ 7.01512838 -0.07366058  0.10275163  0.41423331 -0.86491064  0.39761107] 2.469253161686843e-05\n",
      "[ 7.01485809 -0.0740549   0.10354828  0.41657132 -0.8727268   0.40200596] 2.4581964212144004e-05\n",
      "[ 7.00963615 -0.06281031  0.06034391  0.34119153 -0.70251454  0.31797505] 0.00018731157837827568\n"
     ]
    },
    {
     "output_type": "display_data",
     "data": {
      "image/png": "[encoded data removed]",
      "text/plain": [
       "<Figure size 432x288 with 1 Axes>"
      ]
     },
     "metadata": {
      "needs_background": "light"
     }
    }
   ],
   "metadata": {}
  },
  {
   "cell_type": "code",
   "execution_count": 19,
   "source": [
    "plt.plot(range(len(costs)),costs)"
   ],
   "outputs": [
    {
     "output_type": "execute_result",
     "data": {
      "text/plain": [
       "[<matplotlib.lines.Line2D at 0x119de3670>]"
      ]
     },
     "metadata": {},
     "execution_count": 19
    },
    {
     "output_type": "display_data",
     "data": {
      "image/png": "[encoded data removed]",
      "text/plain": [
       "<Figure size 432x288 with 1 Axes>"
      ]
     },
     "metadata": {
      "needs_background": "light"
     }
    }
   ],
   "metadata": {}
  },
  {
   "cell_type": "code",
   "execution_count": 17,
   "source": [
    "def MPPI(phi, t):\n",
    "    return (np.linalg.inv((phi.T).dot(phi)).dot(phi.T)).dot(t)"
   ],
   "outputs": [],
   "metadata": {}
  },
  {
   "cell_type": "code",
   "execution_count": 18,
   "source": [
    "w = MPPI(phi,t)\n",
    "# w = np.array([0.01402913, 0.02349636, 0.04160696, 0.07611964, 0.14208624, 0.26878028,\n",
    "#  0.51327819, 0.98710056, 1.90850006, 3.70511957])\n",
    "plt.scatter(x,t)\n",
    "plt.scatter(x,(phi).dot(w))\n",
    "print(w)"
   ],
   "outputs": [
    {
     "output_type": "stream",
     "name": "stdout",
     "text": [
      "[ 7.01773396 -0.15137568  0.11437193  1.22414225 -2.22411984  1.00319593]\n"
     ]
    },
    {
     "output_type": "display_data",
     "data": {
      "image/png": "[encoded data removed]",
      "text/plain": [
       "<Figure size 432x288 with 1 Axes>"
      ]
     },
     "metadata": {
      "needs_background": "light"
     }
    }
   ],
   "metadata": {}
  },
  {
   "cell_type": "code",
   "execution_count": 145,
   "source": [
    "def make_batches(phi,t,bs):\n",
    "    N = phi.shape[0]\n",
    "    newphi = np.copy(phi)\n",
    "    newphi = np.concatenate((newphi,np.array([t]).T),axis = 1)\n",
    "    np.random.shuffle(newphi)\n",
    "    sz = math.floor(N/bs)\n",
    "    newphi = newphi[0:sz*bs]\n",
    "    N = phi.shape[0]\n",
    "    newphi = np.array(np.split(newphi,sz))\n",
    "    phis = []\n",
    "    ts = []\n",
    "    for ph in newphi:\n",
    "        ts.append(ph.T[-1])\n",
    "        phis.append((ph.T[0:-1]).T)\n",
    "    return phis,ts"
   ],
   "outputs": [],
   "metadata": {}
  },
  {
   "cell_type": "code",
   "execution_count": 187,
   "source": [
    "def check(phi,t):\n",
    "    N = phi.shape[0]\n",
    "    batch_sizes =[]\n",
    "    alphas = []\n",
    "    for bs in [1,2,5,10,20,50,100]:\n",
    "        batch_sizes.append(bs)\n",
    "        alpha,cost = find_alpha(phi,t,bs,1e-5,1)\n",
    "        alphas.append(alpha,cost)\n",
    "        print(bs,alphas[-1])\n",
    "    plt.plot(batch_sizes,alphas)"
   ],
   "outputs": [],
   "metadata": {}
  },
  {
   "cell_type": "code",
   "execution_count": 207,
   "source": [
    "def find_alpha(phi,t,batch_size,l,r):\n",
    "    mid = 0\n",
    "    cost = 0\n",
    "    for _ in range(5):\n",
    "        mid = (l+r)/2\n",
    "        output = batch_gd(phi,mid,t,np.ones(phi.shape[1],dtype = 'float'),10000,batch_size)\n",
    "        if(isinstance(output,RuntimeWarning)):     # \n",
    "            r = mid\n",
    "        elif(output[1] > 1e6):\n",
    "            r = mid\n",
    "        else:\n",
    "            cost = output[1]\n",
    "            l =mid\n",
    "    return l,cost"
   ],
   "outputs": [],
   "metadata": {}
  },
  {
   "cell_type": "code",
   "execution_count": 218,
   "source": [
    "find_alpha(phi,t,1,1e-2,1)"
   ],
   "outputs": [
    {
     "output_type": "execute_result",
     "data": {
      "text/plain": [
       "(0.2884375, 2.2997637827556803e-05)"
      ]
     },
     "metadata": {},
     "execution_count": 218
    }
   ],
   "metadata": {}
  }
 ],
 "metadata": {
  "orig_nbformat": 4,
  "language_info": {
   "name": "python",
   "version": "3.9.7",
   "mimetype": "text/x-python",
   "codemirror_mode": {
    "name": "ipython",
    "version": 3
   },
   "pygments_lexer": "ipython3",
   "nbconvert_exporter": "python",
   "file_extension": ".py"
  },
  "kernelspec": {
   "name": "python3",
   "display_name": "Python 3.9.7 64-bit"
  },
  "interpreter": {
   "hash": "aee8b7b246df8f9039afb4144a1f6fd8d2ca17a180786b69acc140d282b71a49"
  }
 },
 "nbformat": 4,
 "nbformat_minor": 2
}