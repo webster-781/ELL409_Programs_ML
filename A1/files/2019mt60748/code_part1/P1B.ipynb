{
 "cells": [
  {
   "cell_type": "code",
   "execution_count": 94,
   "source": [
    "import seaborn as sns\n",
    "import csv\n",
    "import math\n",
    "import numpy as np\n",
    "import pandas as pd\n",
    "import matplotlib.pyplot as plt\n",
    "import warnings\n",
    "M = 100 # Order of poly is M-1\n",
    "from random import randint as rand\n",
    "with open(\"non_gaussian.csv\", 'r') as f:\n",
    "    data = list(csv.reader(f,delimiter = ','))\n",
    "\n",
    "\n",
    "def get(phix,m):     # Returns phi only upto the no. of features 0 to m-1\n",
    "    newphi = np.copy(phix.T)\n",
    "    newphi = newphi[0:m]\n",
    "    return newphi.T\n",
    "\n",
    "def plot_all(x,hs,xl = 'X',yl = 'Y',legends = [''],xlog = False,scatterFirst = False, ylog = False):      # Plots all curves with x on X and all elements oh hs on Y, ll = xlabel, yl = ylabel, xlog = if x is on logarithmic scale, legends = legends\n",
    "    plt.figure()\n",
    "    plt.xlabel(xl)\n",
    "    plt.ylabel(yl)\n",
    "    if(xlog):\n",
    "        plt.xscale('log')\n",
    "    if(ylog):\n",
    "        plt.yscale('log')\n",
    "    if(scatterFirst):\n",
    "        plt.scatter(x,hs[0],color = 'indigo')\n",
    "    for h in hs[scatterFirst:]:\n",
    "        plt.plot(x,h)\n",
    "    plt.legend(legends)\n",
    "    plt.show()\n",
    "\n",
    "def make_batches(phix,tx,bs):                 # Returns the batches of phi,t with batch_size = bs\n",
    "    N = phix.shape[0]\n",
    "    newphi = np.copy(phix)\n",
    "    newphi = np.concatenate((newphi,np.array([tx]).T),axis = 1)\n",
    "    np.random.shuffle(newphi)\n",
    "    sz = math.floor(N/bs)\n",
    "    # print(sz,bs)\n",
    "    newphi = newphi[0:sz*bs]\n",
    "    N = phix.shape[0]\n",
    "    newphi = np.array(np.split(newphi,sz))\n",
    "    phis = []\n",
    "    ts = []\n",
    "    for ph in newphi:\n",
    "        ts.append(ph.T[-1])\n",
    "        phis.append((ph.T[0:-1]).T)\n",
    "    return phis,ts\n",
    "\n",
    "def MPPI(phi, t, m, lamda):\n",
    "    phix = get(phi,m)\n",
    "    wm = (( np.linalg.inv(lamda*np.eye(m) + (phix.T).dot(phix)).dot(phix.T)).dot(t))\n",
    "    h = phix.dot(wm)\n",
    "    return wm,h\n",
    "\n",
    "def SSE(hi,ti):   # Returns Sum of Squares error between the hypothesis h and the target t\n",
    "    N = hi.shape[0]\n",
    "    cost = (1/N)*0.5*sum(np.square(hi-ti))\n",
    "    return cost\n",
    "\n",
    "def norm_SSG(phii,ti,h,lamda,w):\n",
    "    N = ti.shape[0]\n",
    "    gd = np.dot(phii.T,h-ti)/N + lamda*w\n",
    "    nm = np.linalg.norm(nm)\n",
    "    return gd/nm\n",
    "\n",
    "def SSG(phii,ti,h,lamda,w):\n",
    "    N = ti.shape[0]\n",
    "    gd = np.dot(phii.T,h-ti)/N + lamda*w\n",
    "    return gd\n",
    "\n",
    "def batch_gd(phi, alpha, tx, iters, batch_size, m,lamda =0, errorf = SSE, gradient= SSG):\n",
    "    phix = get(phi,m)\n",
    "    w = np.ones(m,dtype = 'float')\n",
    "    M = phix.shape[1]       # Number of features\n",
    "    N = batch_size          # Number of data points\n",
    "    for i in range(iters):\n",
    "        phis,ts = make_batches(phix,tx,batch_size)\n",
    "        with warnings.catch_warnings():\n",
    "            warnings.filterwarnings('error')\n",
    "            try:\n",
    "                for i in range(len(phis)):\n",
    "                    phii = phis[i]\n",
    "                    ti = ts[i]\n",
    "                    h = phii.dot(w)\n",
    "\n",
    "                    gd = gradient(phii,ti,h,lamda,w)\n",
    "\n",
    "                    w = w - (alpha * gd)\n",
    "\n",
    "                    h = phii.dot(w)\n",
    "            except RuntimeWarning as e:\n",
    "                return e\n",
    "    h = phix.dot(w)\n",
    "    with warnings.catch_warnings():\n",
    "        warnings.filterwarnings('error')\n",
    "        try:\n",
    "            cost = errorf(h,tx)\n",
    "        except RuntimeWarning as e:\n",
    "            return e\n",
    "    return w,cost,h\n",
    "\n",
    "def check(phi,t,m):\n",
    "    N = phi.shape[0]\n",
    "    batch_sizes =[]\n",
    "    alphas = []\n",
    "    for bs in [1,2,5,10,20,50,100]:\n",
    "        batch_sizes.append(bs)\n",
    "        alpha,cost = find_alpha(phi,t,bs,1e-5,1,m)\n",
    "        alphas.append(alpha,cost)\n",
    "        print(bs,alphas[-1])\n",
    "    plt.plot(batch_sizes,alphas)\n",
    "\n",
    "def find_alpha(phi,t,batch_size,l,r,lamda,m,errorf):\n",
    "    mid = 0\n",
    "    cost = 0\n",
    "    for _ in range(5):\n",
    "        mid = (l+r)/2\n",
    "        output = batch_gd(phi,mid,t,10000,batch_size,lamda = lamda,m = m)\n",
    "        if(isinstance(output,RuntimeWarning)):\n",
    "            r = mid\n",
    "        elif(output[1] > 1e6):\n",
    "            r = mid\n",
    "        else:\n",
    "            cost = output[1]\n",
    "            l =mid\n",
    "    return l,cost\n",
    "\n",
    "def Cross_Validation(phi,tx,alpha,parts,lamda,m,batch_size = 1,iters=1000,errorf=SSE,gradient=SSG,pinv = True):   # Finds cross validation Error for the given arguments\n",
    "    # print(m,lamda)\n",
    "    phix = get(phi,m)\n",
    "    N = phix.shape[0]\n",
    "    bs = math.floor(N/parts)\n",
    "    alls = np.array_split(range(N),parts)\n",
    "    test_error = 0.0\n",
    "    training_error = 0.0\n",
    "    if(parts == 1):\n",
    "        if(pinv):\n",
    "            wi,hi = MPPI(phi,tx,m,lamda)   \n",
    "            costi = SSE(hi,tx)      # Represents the training error\n",
    "        else:\n",
    "            wi,costi,hi = batch_gd(phi = phi, alpha = alpha,tx = tx,batch_size= batch_size,lamda = lamda, iters = iters,m = m)\n",
    "        return costi\n",
    "    else:\n",
    "        for i in range(parts):\n",
    "            phii = np.delete(phix,alls[i],axis = 0)\n",
    "            ti = np.delete(tx,alls[i])\n",
    "            if(pinv):\n",
    "                wi,hi = MPPI(phii,ti,m,lamda)   \n",
    "                costi = SSE(hi,ti)      # Represents the training error\n",
    "            else:\n",
    "                wi,costi,hi = batch_gd(phi = phii, alpha = alpha,tx = ti,batch_size= batch_size,lamda = lamda, iters = iters,m = m)\n",
    "            # Wi and Hi are weights and hypothesis values at all inputs in this training set\n",
    "            hypothesis_i = phix[alls[i]].dot(wi)    # Represents the hypothesis values at the test set\n",
    "            training_error += costi # Increment total training error\n",
    "            test_error += SSE(hypothesis_i,tx[alls[i]]) # Increment total testing error\n",
    "    test_error /= parts\n",
    "    training_error /= parts\n",
    "    test_error = math.sqrt(test_error)\n",
    "    training_error = math.sqrt(training_error)\n",
    "    print(test_error,training_error)\n",
    "    return test_error,training_error"
   ],
   "outputs": [],
   "metadata": {}
  },
  {
   "cell_type": "code",
   "execution_count": 46,
   "source": [
    "# data= data[0:20]\n",
    "data = np.array(data)\n",
    "data = np.array([[float(d[0]),float(d[1])] for d in data])\n",
    "data = data[np.argsort(data[:,0])]\n",
    "x = np.array([d[0] for d in data], dtype = 'float')\n",
    "t = np.array([d[1] for d in data], dtype= 'float')\n",
    "phi = np.array([[pow(xv,i) for i in range(M)] for xv in x])\n",
    "N = t.size"
   ],
   "outputs": [],
   "metadata": {}
  },
  {
   "cell_type": "code",
   "execution_count": 63,
   "source": [
    "errors = [Cross_Validation(phi,t, alpha = 1e-4, batch_size = 100, iters= 5000, parts = 1, lamda = 0, m = i, pinv = False,gradient=norm_SSG) for i in range(2,8)]"
   ],
   "outputs": [
    {
     "output_type": "error",
     "ename": "TypeError",
     "evalue": "cannot unpack non-iterable RuntimeWarning object",
     "traceback": [
      "\u001b[0;31m---------------------------------------------------------------------------\u001b[0m",
      "\u001b[0;31mTypeError\u001b[0m                                 Traceback (most recent call last)",
      "\u001b[0;32m<ipython-input-63-0bf010f008c0>\u001b[0m in \u001b[0;36m<module>\u001b[0;34m\u001b[0m\n\u001b[0;32m----> 1\u001b[0;31m \u001b[0merrors\u001b[0m \u001b[0;34m=\u001b[0m \u001b[0;34m[\u001b[0m\u001b[0mCross_Validation\u001b[0m\u001b[0;34m(\u001b[0m\u001b[0mphi\u001b[0m\u001b[0;34m,\u001b[0m\u001b[0mt\u001b[0m\u001b[0;34m,\u001b[0m \u001b[0malpha\u001b[0m \u001b[0;34m=\u001b[0m \u001b[0;36m1e-4\u001b[0m\u001b[0;34m,\u001b[0m \u001b[0mbatch_size\u001b[0m \u001b[0;34m=\u001b[0m \u001b[0;36m100\u001b[0m\u001b[0;34m,\u001b[0m \u001b[0miters\u001b[0m\u001b[0;34m=\u001b[0m \u001b[0;36m5000\u001b[0m\u001b[0;34m,\u001b[0m \u001b[0mparts\u001b[0m \u001b[0;34m=\u001b[0m \u001b[0;36m1\u001b[0m\u001b[0;34m,\u001b[0m \u001b[0mlamda\u001b[0m \u001b[0;34m=\u001b[0m \u001b[0;36m0\u001b[0m\u001b[0;34m,\u001b[0m \u001b[0mm\u001b[0m \u001b[0;34m=\u001b[0m \u001b[0mi\u001b[0m\u001b[0;34m,\u001b[0m \u001b[0mpinv\u001b[0m \u001b[0;34m=\u001b[0m \u001b[0;32mFalse\u001b[0m\u001b[0;34m,\u001b[0m\u001b[0mgradient\u001b[0m\u001b[0;34m=\u001b[0m\u001b[0mnorm_SSG\u001b[0m\u001b[0;34m)\u001b[0m \u001b[0;32mfor\u001b[0m \u001b[0mi\u001b[0m \u001b[0;32min\u001b[0m \u001b[0mrange\u001b[0m\u001b[0;34m(\u001b[0m\u001b[0;36m2\u001b[0m\u001b[0;34m,\u001b[0m\u001b[0;36m8\u001b[0m\u001b[0;34m)\u001b[0m\u001b[0;34m]\u001b[0m\u001b[0;34m\u001b[0m\u001b[0;34m\u001b[0m\u001b[0m\n\u001b[0m",
      "\u001b[0;32m<ipython-input-63-0bf010f008c0>\u001b[0m in \u001b[0;36m<listcomp>\u001b[0;34m(.0)\u001b[0m\n\u001b[0;32m----> 1\u001b[0;31m \u001b[0merrors\u001b[0m \u001b[0;34m=\u001b[0m \u001b[0;34m[\u001b[0m\u001b[0mCross_Validation\u001b[0m\u001b[0;34m(\u001b[0m\u001b[0mphi\u001b[0m\u001b[0;34m,\u001b[0m\u001b[0mt\u001b[0m\u001b[0;34m,\u001b[0m \u001b[0malpha\u001b[0m \u001b[0;34m=\u001b[0m \u001b[0;36m1e-4\u001b[0m\u001b[0;34m,\u001b[0m \u001b[0mbatch_size\u001b[0m \u001b[0;34m=\u001b[0m \u001b[0;36m100\u001b[0m\u001b[0;34m,\u001b[0m \u001b[0miters\u001b[0m\u001b[0;34m=\u001b[0m \u001b[0;36m5000\u001b[0m\u001b[0;34m,\u001b[0m \u001b[0mparts\u001b[0m \u001b[0;34m=\u001b[0m \u001b[0;36m1\u001b[0m\u001b[0;34m,\u001b[0m \u001b[0mlamda\u001b[0m \u001b[0;34m=\u001b[0m \u001b[0;36m0\u001b[0m\u001b[0;34m,\u001b[0m \u001b[0mm\u001b[0m \u001b[0;34m=\u001b[0m \u001b[0mi\u001b[0m\u001b[0;34m,\u001b[0m \u001b[0mpinv\u001b[0m \u001b[0;34m=\u001b[0m \u001b[0;32mFalse\u001b[0m\u001b[0;34m,\u001b[0m\u001b[0mgradient\u001b[0m\u001b[0;34m=\u001b[0m\u001b[0mnorm_SSG\u001b[0m\u001b[0;34m)\u001b[0m \u001b[0;32mfor\u001b[0m \u001b[0mi\u001b[0m \u001b[0;32min\u001b[0m \u001b[0mrange\u001b[0m\u001b[0;34m(\u001b[0m\u001b[0;36m2\u001b[0m\u001b[0;34m,\u001b[0m\u001b[0;36m8\u001b[0m\u001b[0;34m)\u001b[0m\u001b[0;34m]\u001b[0m\u001b[0;34m\u001b[0m\u001b[0;34m\u001b[0m\u001b[0m\n\u001b[0m",
      "\u001b[0;32m<ipython-input-60-94e4202ef021>\u001b[0m in \u001b[0;36mCross_Validation\u001b[0;34m(phi, tx, alpha, parts, lamda, m, batch_size, iters, errorf, gradient, pinv)\u001b[0m\n\u001b[1;32m    139\u001b[0m             \u001b[0mcosti\u001b[0m \u001b[0;34m=\u001b[0m \u001b[0mSSE\u001b[0m\u001b[0;34m(\u001b[0m\u001b[0mhi\u001b[0m\u001b[0;34m,\u001b[0m\u001b[0mtx\u001b[0m\u001b[0;34m)\u001b[0m      \u001b[0;31m# Represents the training error\u001b[0m\u001b[0;34m\u001b[0m\u001b[0;34m\u001b[0m\u001b[0m\n\u001b[1;32m    140\u001b[0m         \u001b[0;32melse\u001b[0m\u001b[0;34m:\u001b[0m\u001b[0;34m\u001b[0m\u001b[0;34m\u001b[0m\u001b[0m\n\u001b[0;32m--> 141\u001b[0;31m             \u001b[0mwi\u001b[0m\u001b[0;34m,\u001b[0m\u001b[0mcosti\u001b[0m\u001b[0;34m,\u001b[0m\u001b[0mhi\u001b[0m \u001b[0;34m=\u001b[0m \u001b[0mbatch_gd\u001b[0m\u001b[0;34m(\u001b[0m\u001b[0mphi\u001b[0m \u001b[0;34m=\u001b[0m \u001b[0mphi\u001b[0m\u001b[0;34m,\u001b[0m \u001b[0malpha\u001b[0m \u001b[0;34m=\u001b[0m \u001b[0malpha\u001b[0m\u001b[0;34m,\u001b[0m\u001b[0mtx\u001b[0m \u001b[0;34m=\u001b[0m \u001b[0mtx\u001b[0m\u001b[0;34m,\u001b[0m\u001b[0mbatch_size\u001b[0m\u001b[0;34m=\u001b[0m \u001b[0mbatch_size\u001b[0m\u001b[0;34m,\u001b[0m\u001b[0mlamda\u001b[0m \u001b[0;34m=\u001b[0m \u001b[0mlamda\u001b[0m\u001b[0;34m,\u001b[0m \u001b[0miters\u001b[0m \u001b[0;34m=\u001b[0m \u001b[0miters\u001b[0m\u001b[0;34m,\u001b[0m\u001b[0mm\u001b[0m \u001b[0;34m=\u001b[0m \u001b[0mm\u001b[0m\u001b[0;34m)\u001b[0m\u001b[0;34m\u001b[0m\u001b[0;34m\u001b[0m\u001b[0m\n\u001b[0m\u001b[1;32m    142\u001b[0m         \u001b[0;32mreturn\u001b[0m \u001b[0mcosti\u001b[0m\u001b[0;34m\u001b[0m\u001b[0;34m\u001b[0m\u001b[0m\n\u001b[1;32m    143\u001b[0m     \u001b[0;32melse\u001b[0m\u001b[0;34m:\u001b[0m\u001b[0;34m\u001b[0m\u001b[0;34m\u001b[0m\u001b[0m\n",
      "\u001b[0;31mTypeError\u001b[0m: cannot unpack non-iterable RuntimeWarning object"
     ]
    }
   ],
   "metadata": {}
  },
  {
   "cell_type": "code",
   "execution_count": 59,
   "source": [
    "errs = np.copy(np.array(errors)).T\n",
    "test = errs[0:8]\n",
    "# train = errs[1][0:7]\n",
    "plot_all(x = range(1,9), hs = [test],ylog = True,  legends = ['Testing'], xl ='Degree of Polynomial', yl ='Error')"
   ],
   "outputs": [
    {
     "output_type": "display_data",
     "data": {
      "image/png": "[encoded data removed]",
      "text/plain": [
       "<Figure size 432x288 with 1 Axes>"
      ]
     },
     "metadata": {
      "needs_background": "light"
     }
    }
   ],
   "metadata": {}
  },
  {
   "cell_type": "markdown",
   "source": [
    "Choosing Optimal degree 7, i.e. M = 8"
   ],
   "metadata": {}
  },
  {
   "cell_type": "code",
   "execution_count": 18,
   "source": [
    "lamdas = [pow(10,i) for i in np.arange(-30,0,0.5)]\n",
    "errors = [Cross_Validation(phi,t, alpha = 1e-4, batch_size = 1, parts = 10, lamda = lamda, m = 8, pinv = True) for lamda in lamdas]"
   ],
   "outputs": [
    {
     "output_type": "stream",
     "name": "stdout",
     "text": [
      "3.1280332259654897 0.983124095463632\n",
      "3.1280332259654897 0.983124095463632\n",
      "3.1280332259654897 0.983124095463632\n",
      "3.1280332259654897 0.983124095463632\n",
      "3.1280332259654897 0.983124095463632\n",
      "3.1280332259654897 0.983124095463632\n",
      "3.1280332259654897 0.983124095463632\n",
      "3.1280332259654897 0.983124095463632\n",
      "3.1280332259654897 0.983124095463632\n",
      "3.1280332259654897 0.983124095463632\n",
      "3.1280332259654897 0.983124095463632\n",
      "3.1280332259654897 0.983124095463632\n",
      "3.1280332259654897 0.983124095463632\n",
      "3.1280332259654897 0.983124095463632\n",
      "3.1280332259654897 0.983124095463632\n",
      "3.1280332259654897 0.983124095463632\n",
      "3.1280332259654897 0.983124095463632\n",
      "3.1280332259654897 0.983124095463632\n",
      "3.1280332259654897 0.983124095463632\n",
      "3.1280332259654897 0.983124095463632\n",
      "3.1280332259654897 0.983124095463632\n",
      "3.1280332259654897 0.983124095463632\n",
      "3.1280332259654897 0.983124095463632\n",
      "3.1280332259654897 0.983124095463632\n",
      "3.1280332259654897 0.983124095463632\n",
      "3.1280332259654897 0.983124095463632\n",
      "3.1280332259654897 0.983124095463632\n",
      "3.1280332259654897 0.983124095463632\n",
      "3.1280332259654897 0.983124095463632\n",
      "3.1280332259654897 0.983124095463632\n",
      "3.1280332259654897 0.983124095463632\n",
      "3.1280332259654897 0.983124095463632\n",
      "3.1280332261913872 0.983124095463633\n",
      "3.128033226143229 0.9831240954636326\n",
      "3.1280332263137804 0.9831240954636316\n",
      "3.128033226378375 0.9831240954636297\n",
      "3.12803322722573 0.983124095463632\n",
      "3.1280332271978235 0.9831240954636312\n",
      "3.128033227198116 0.9831240954636324\n",
      "3.128033226785723 0.9831240954636322\n",
      "3.128033226919602 0.983124095463631\n",
      "3.128033229929859 0.9831240954636317\n",
      "3.1280332368347024 0.9831240954636323\n",
      "3.1280332581832355 0.983124095463631\n",
      "3.128033323577438 0.9831240954636336\n",
      "3.1280335344895915 0.9831240954636331\n",
      "3.1280342004990587 0.9831240954636428\n",
      "3.128036306114135 0.9831240954637337\n",
      "3.128042965431478 0.9831240954646534\n",
      "3.1280640229078625 0.9831240954738508\n",
      "3.1281306127773956 0.9831240955658043\n",
      "3.1283411729346753 0.9831240964852906\n",
      "3.1290068948667704 0.9831241056783812\n",
      "3.131110833555202 0.9831241975530436\n",
      "3.1377513823371226 0.9831251145247878\n",
      "3.1586229769191627 0.9831342284765787\n",
      "3.2233273460965 0.9832236396544561\n",
      "3.4146820061738357 0.9840663628520496\n",
      "3.896325592160564 0.9911349274394139\n",
      "4.66362072824915 1.0350090259801217\n"
     ]
    }
   ],
   "metadata": {}
  },
  {
   "cell_type": "code",
   "execution_count": 22,
   "source": [
    "errs = np.array(errors).copy().T\n",
    "m = 55\n",
    "train = errs[1][0:m]\n",
    "test =errs[0][0:m]\n",
    "lambs = np.copy(lamdas)\n",
    "lambs = lambs[0:m]\n",
    "plot_all(x = lambs, hs = [test,train], xlog = True,  legends = ['Testing','Training'], xl ='Lamda', yl ='Error',)"
   ],
   "outputs": [
    {
     "output_type": "display_data",
     "data": {
      "image/png": "[encoded data removed]",
      "text/plain": [
       "<Figure size 432x288 with 1 Axes>"
      ]
     },
     "metadata": {
      "needs_background": "light"
     }
    }
   ],
   "metadata": {}
  },
  {
   "cell_type": "markdown",
   "source": [
    "Hence we take the lamda as 0 since this doesn't vary"
   ],
   "metadata": {}
  },
  {
   "cell_type": "code",
   "execution_count": 147,
   "source": [
    "wx,costx = MPPI(phi  = phi,t = t, lamda = 1e-6, m = 8)\n",
    "\n",
    "hx = get(phi,8).dot(wx)\n",
    "noise1 = hx - t\n",
    "mx = np.max(noise1)\n",
    "mn = np.min(noise1)\n",
    "print(np.std(noise1)**2)\n",
    "print(mn,mx,mx-mn)\n",
    "noises = [noise/7 + 0.6 for noise in noise1]      # Normalising the noise from (-4,4) to (-1/2,1/2)\n",
    "print(np.mean(noise1))\n",
    "# sns.distplot(noise1,kde = True)\n",
    "sns.distplot(noises)"
   ],
   "outputs": [
    {
     "output_type": "stream",
     "name": "stdout",
     "text": [
      "1.9583761930193984\n",
      "-4.272631422023542 2.6816195694229608 6.954250991446503\n",
      "-1.2545318801016058e-07\n"
     ]
    },
    {
     "output_type": "stream",
     "name": "stderr",
     "text": [
      "/usr/local/lib/python3.9/site-packages/seaborn/distributions.py:2619: FutureWarning: `distplot` is a deprecated function and will be removed in a future version. Please adapt your code to use either `displot` (a figure-level function with similar flexibility) or `histplot` (an axes-level function for histograms).\n",
      "  warnings.warn(msg, FutureWarning)\n"
     ]
    },
    {
     "output_type": "execute_result",
     "data": {
      "text/plain": [
       "<AxesSubplot:ylabel='Density'>"
      ]
     },
     "metadata": {},
     "execution_count": 147
    },
    {
     "output_type": "display_data",
     "data": {
      "image/png": "[encoded data removed]",
      "text/plain": [
       "<Figure size 432x288 with 1 Axes>"
      ]
     },
     "metadata": {
      "needs_background": "light"
     }
    }
   ],
   "metadata": {}
  },
  {
   "cell_type": "code",
   "execution_count": 5,
   "source": [
    "# print(noises)\n",
    "print(np.mean(noises))"
   ],
   "outputs": [
    {
     "output_type": "stream",
     "name": "stdout",
     "text": [
      "-1.5681648501270073e-08\n"
     ]
    }
   ],
   "metadata": {}
  },
  {
   "cell_type": "code",
   "execution_count": 8,
   "source": [
    "#plot_all(x,[hx,hx],xl='X',yl='Y',scatterFirst=True,legends=['Data','Data'])\n",
    "plt.plot(x,t)"
   ],
   "outputs": [
    {
     "output_type": "display_data",
     "data": {
      "image/png": "[encoded data removed]",
      "text/plain": [
       "<Figure size 432x288 with 1 Axes>"
      ]
     },
     "metadata": {
      "needs_background": "light"
     }
    }
   ],
   "metadata": {}
  },
  {
   "cell_type": "code",
   "execution_count": 65,
   "source": [
    "noises = np.copy(np.array(noises))\n",
    "sum(noises)\n",
    "mean = 0"
   ],
   "outputs": [
    {
     "output_type": "stream",
     "name": "stdout",
     "text": [
      "100\n"
     ]
    }
   ],
   "metadata": {}
  },
  {
   "cell_type": "markdown",
   "source": [
    "mean = 0.5\n",
    "mode = 0.6"
   ],
   "metadata": {}
  },
  {
   "cell_type": "code",
   "execution_count": 14,
   "source": [
    "sns.distplot(noises, hist = False, kde = True)"
   ],
   "outputs": [
    {
     "output_type": "stream",
     "name": "stderr",
     "text": [
      "/usr/local/lib/python3.9/site-packages/seaborn/distributions.py:2619: FutureWarning: `distplot` is a deprecated function and will be removed in a future version. Please adapt your code to use either `displot` (a figure-level function with similar flexibility) or `kdeplot` (an axes-level function for kernel density plots).\n",
      "  warnings.warn(msg, FutureWarning)\n"
     ]
    },
    {
     "output_type": "execute_result",
     "data": {
      "text/plain": [
       "<AxesSubplot:ylabel='Density'>"
      ]
     },
     "metadata": {},
     "execution_count": 14
    },
    {
     "output_type": "display_data",
     "data": {
      "image/png": "[encoded data removed]",
      "text/plain": [
       "<Figure size 432x288 with 1 Axes>"
      ]
     },
     "metadata": {
      "needs_background": "light"
     }
    }
   ],
   "metadata": {}
  },
  {
   "cell_type": "code",
   "execution_count": 142,
   "source": [
    "al=2.4\n",
    "be=1.6\n",
    "print(\"Plot for alpha = {}, beta = {}\".format(al,be))\n",
    "samples = np.random.beta(al,be, size=100)\n",
    "datas = {'Noise': noises, 'Samples' : samples}\n",
    "dfs = pd.DataFrame(datas)\n",
    "print(dfs)\n",
    "sns.distplot(dfs).set_xlim(-1/2,3/2)"
   ],
   "outputs": [
    {
     "output_type": "stream",
     "name": "stdout",
     "text": [
      "Plot for alpha = 2.4, beta = 1.6\n",
      "       Noise   Samples\n",
      "0   0.551330  0.390839\n",
      "1   0.673253  0.640155\n",
      "2   0.802636  0.722253\n",
      "3   0.508736  0.885025\n",
      "4   0.650033  0.648600\n",
      "..       ...       ...\n",
      "95  0.457358  0.508378\n",
      "96  0.418080  0.956039\n",
      "97  0.797156  0.757568\n",
      "98  0.739567  0.706753\n",
      "99  0.528381  0.834238\n",
      "\n",
      "[100 rows x 2 columns]\n"
     ]
    },
    {
     "output_type": "stream",
     "name": "stderr",
     "text": [
      "/usr/local/lib/python3.9/site-packages/seaborn/distributions.py:2619: FutureWarning: `distplot` is a deprecated function and will be removed in a future version. Please adapt your code to use either `displot` (a figure-level function with similar flexibility) or `histplot` (an axes-level function for histograms).\n",
      "  warnings.warn(msg, FutureWarning)\n"
     ]
    },
    {
     "output_type": "execute_result",
     "data": {
      "text/plain": [
       "(-0.5, 1.5)"
      ]
     },
     "metadata": {},
     "execution_count": 142
    },
    {
     "output_type": "display_data",
     "data": {
      "image/png": "[encoded data removed]",
      "text/plain": [
       "<Figure size 432x288 with 1 Axes>"
      ]
     },
     "metadata": {
      "needs_background": "light"
     }
    }
   ],
   "metadata": {}
  }
 ],
 "metadata": {
  "orig_nbformat": 4,
  "language_info": {
   "name": "python",
   "version": "3.9.7",
   "mimetype": "text/x-python",
   "codemirror_mode": {
    "name": "ipython",
    "version": 3
   },
   "pygments_lexer": "ipython3",
   "nbconvert_exporter": "python",
   "file_extension": ".py"
  },
  "kernelspec": {
   "name": "python3",
   "display_name": "Python 3.9.7 64-bit"
  },
  "interpreter": {
   "hash": "aee8b7b246df8f9039afb4144a1f6fd8d2ca17a180786b69acc140d282b71a49"
  }
 },
 "nbformat": 4,
 "nbformat_minor": 2
}